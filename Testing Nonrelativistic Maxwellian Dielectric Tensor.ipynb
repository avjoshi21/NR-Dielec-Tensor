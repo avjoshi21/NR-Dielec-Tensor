{
 "cells": [
  {
   "cell_type": "code",
   "execution_count": 1,
   "metadata": {
    "collapsed": true,
    "deletable": true,
    "editable": true
   },
   "outputs": [],
   "source": [
    "\n",
    "%matplotlib inline\n",
    "import numpy as np\n",
    "import pylab as pl\n",
    "import scipy.special as special\n",
    "from scipy.integrate import quad,fixed_quad\n",
    "\n",
    "# Set plot parameters to make beautiful plots\n",
    "pl.rcParams['figure.figsize']  = 12, 7.5\n",
    "pl.rcParams['lines.linewidth'] = 1.5\n",
    "pl.rcParams['font.family']     = 'serif'\n",
    "pl.rcParams['font.weight']     = 'bold'\n",
    "pl.rcParams['font.size']       = 20  \n",
    "pl.rcParams['font.sans-serif'] = 'serif'\n",
    "pl.rcParams['text.usetex']     = True\n",
    "pl.rcParams['axes.linewidth']  = 1.5\n",
    "pl.rcParams['axes.titlesize']  = 'medium'\n",
    "pl.rcParams['axes.labelsize']  = 'large'\n",
    "\n",
    "pl.rcParams['xtick.major.size'] = 8     \n",
    "pl.rcParams['xtick.minor.size'] = 4     \n",
    "pl.rcParams['xtick.major.pad']  = 8     \n",
    "pl.rcParams['xtick.minor.pad']  = 8     \n",
    "pl.rcParams['xtick.color']      = 'k'     \n",
    "pl.rcParams['xtick.labelsize']  = 'large'\n",
    "pl.rcParams['xtick.direction']  = 'in'    \n",
    "\n",
    "pl.rcParams['ytick.major.size'] = 8     \n",
    "pl.rcParams['ytick.minor.size'] = 4     \n",
    "pl.rcParams['ytick.major.pad']  = 8     \n",
    "pl.rcParams['ytick.minor.pad']  = 8     \n",
    "pl.rcParams['ytick.color']      = 'k'     \n",
    "pl.rcParams['ytick.labelsize']  = 'large'\n",
    "pl.rcParams['ytick.direction']  = 'in'\n",
    "\n"
   ]
  },
  {
   "cell_type": "code",
   "execution_count": 2,
   "metadata": {
    "collapsed": true,
    "deletable": true,
    "editable": true
   },
   "outputs": [],
   "source": [
    "# EVERYTHING IS 1 units\n",
    "\n",
    "#constants\n",
    "e        = 1.     #electron charge\n",
    "m        = 1.     #electron mass\n",
    "c        = 1.     #speed of light\n",
    "epsilon0 = 1.     #permittivity of free space\n",
    "epsilon  = -1.    #sign of electron charge\n",
    "\n",
    "#parameters\n",
    "B     = 1.         #background B strength\n",
    "n_e   = 1.         #electron number density cm^-3\n",
    "w_T   = 1.         #dimensionless electron temp. k_B T / m c^2\n",
    "theta = np.pi / 3. #observer angle\n",
    "\n",
    "#derived quantities\n",
    "omega_p = np.sqrt(n_e * e**2. / (m * epsilon0))     # plasma frequency\n",
    "omega_c = e * B / (m * c)                           # cyclotron frequency\n"
   ]
  },
  {
   "cell_type": "code",
   "execution_count": 3,
   "metadata": {
    "collapsed": true,
    "deletable": true,
    "editable": true
   },
   "outputs": [],
   "source": [
    "#coding up the swanson tensor elements\n",
    "#we first need the plasma dispersion function\n",
    "\n",
    "def Z_integrand(xi, zeta):\n",
    "    prefactor   = 1. / np.sqrt(np.pi)\n",
    "    numerator   = np.exp(-xi**2.)\n",
    "    \n",
    "#   denominator = xi - zeta  #included in quad with weight type 'cauchy' passed to quad\n",
    "    denominator = 1.\n",
    "    \n",
    "    return prefactor * numerator / denominator\n",
    "\n",
    "def Zder_integrand(xi,zeta):\n",
    "    prefactor = -1. / np.sqrt(np.pi)\n",
    "    numerator = 2*xi*np.exp(-xi**2)\n",
    "    denominator = 1\n",
    "    return prefactor*numerator/denominator\n",
    "\n",
    "def Zder(zeta):\n",
    "#     if(np.abs(zeta) < 2.):\n",
    "#         int_limit = 10. * np.abs(zeta)\n",
    "#     elif(np.abs(zeta) > 2. and np.abs(zeta) < 130.):\n",
    "#         int_limit = 2. * np.abs(zeta)\n",
    "#     else:\n",
    "#         int_limit = 1.5 * np.abs(zeta)\n",
    "    \n",
    "#     imag_part = 1j * np.pi * Zder_integrand(zeta, zeta)\n",
    "    \n",
    "#     if(zeta != 0):\n",
    "#         ans = quad(lambda xi: Zder_integrand(xi, zeta), -int_limit, int_limit, weight='cauchy', wvar=zeta)[0]\n",
    "#     else:\n",
    "#         ans = 0.\n",
    "        \n",
    "#     return ans + imag_part\n",
    "    return -2 * (1+zeta*Z(zeta))\n",
    "\n",
    "#seems to work up to |zeta| = 625 where it's approx. -/+ 0.002 (so negative zeta yields +0.002)\n",
    "def Z(zeta): \n",
    "    if(np.abs(zeta) < 2.):\n",
    "        int_limit = 10. * np.abs(zeta)\n",
    "    elif(np.abs(zeta) > 2. and np.abs(zeta) < 130.):\n",
    "        int_limit = 2. * np.abs(zeta)\n",
    "    else:\n",
    "        int_limit = 1.5 * np.abs(zeta)\n",
    "    \n",
    "    imag_part = 1j * np.pi * Z_integrand(zeta, zeta)\n",
    "    \n",
    "    if(zeta != 0):\n",
    "        ans = quad(lambda xi: Z_integrand(xi, zeta), -int_limit, int_limit, weight='cauchy', wvar=zeta)[0]\n",
    "    else:\n",
    "        ans = 0.\n",
    "        \n",
    "    return ans + imag_part\n"
   ]
  },
  {
   "cell_type": "code",
   "execution_count": 4,
   "metadata": {
    "collapsed": false,
    "deletable": true,
    "editable": true
   },
   "outputs": [],
   "source": [
    "def K_2(n, omega):\n",
    "    k_perp = omega / c * np.sin(theta)                  # wavevector perp component n = 1 approximation\n",
    "    k_z    = omega / c * np.cos(theta)                  # wavevector parallel comp. n = 1 approximation\n",
    "    lambd   = k_perp**2. * w_T**2. / (2. * omega_c**2.) # just a defined parameter\n",
    "    prefactor = 1j * epsilon * omega_p**2. * np.exp(-lambd) / (omega * k_z * w_T)\n",
    "    zeta = (omega + n * omega_c) / (k_z * w_T)\n",
    "    \n",
    "    if(np.abs(zeta) > 625):\n",
    "        print (\"zeta out of range of PDF\")\n",
    "    \n",
    "    term1 = n * (special.iv(n, lambd) - special.ivp(n, lambd)) * Z(zeta)\n",
    "    ans = prefactor * term1\n",
    "    return ans\n",
    "\n",
    "def K_2sum(terms,omega):\n",
    "    ans = 0.\n",
    "    for i in range(-terms, terms):\n",
    "        ans += K_2(i, omega)\n",
    "#        print i, ans  \n",
    "    return ans\n"
   ]
  },
  {
   "cell_type": "code",
   "execution_count": 5,
   "metadata": {
    "collapsed": true,
    "deletable": true,
    "editable": true
   },
   "outputs": [],
   "source": [
    "def K_0(n,omega):\n",
    "    \n",
    "    k_perp = omega / c * np.sin(theta)                  # wavevector perp component n = 1 approximation\n",
    "    k_z    = omega / c * np.cos(theta)                  # wavevector parallel comp. n = 1 approximation\n",
    "    lambd   = k_perp**2. * w_T**2. / (2. * omega_c**2.) # just a defined parameter\n",
    "    zeta = (omega + n * omega_c) / (k_z * w_T)\n",
    "    \n",
    "    prefactor = 2*omega_p**2. * np.exp(-lambd) / (omega * k_z * w_T)\n",
    "    \n",
    "    if(np.abs(zeta) > 625):\n",
    "        print (\"zeta out of range of PDF\")\n",
    "        \n",
    "    term1 = lambd * (special.iv(n,lambd) - special.ivp(n,lambd)) * Z(zeta)\n",
    "    ans = prefactor * term1\n",
    "    return ans\n",
    "\n",
    "def K_0sum(terms,omega):\n",
    "    ans = 0.\n",
    "    for i in range(-terms, terms):\n",
    "        ans += K_0(i, omega)\n",
    "#        print i, ans  \n",
    "    return ans\n"
   ]
  },
  {
   "cell_type": "code",
   "execution_count": 6,
   "metadata": {
    "collapsed": true,
    "deletable": true,
    "editable": true
   },
   "outputs": [],
   "source": [
    "def K_1(n,omega):\n",
    "    #can't add the 1 here, add it towards the end of calculating the component (in K_11(a,b))\n",
    "    \n",
    "    k_perp = omega / c * np.sin(theta)                  # wavevector perp component n = 1 approximation\n",
    "    k_z    = omega / c * np.cos(theta)                  # wavevector parallel comp. n = 1 approximation\n",
    "    lambd   = k_perp**2. * w_T**2. / (2. * omega_c**2.) # just a defined parameter\n",
    "    zeta = (omega + n * omega_c) / (k_z * w_T)\n",
    "        \n",
    "    prefactor = omega_p**2. * np.exp(-lambd) / (omega * k_z * w_T)\n",
    "    \n",
    "#     if(np.abs(zeta) > 625):\n",
    "#         print (\"zeta out of range of PDF\")\n",
    "        \n",
    "    term1 = n**2 * (special.iv(n,lambd)/lambd) * Z(zeta)\n",
    "    ans = prefactor * term1\n",
    "    return ans\n",
    "\n",
    "def K_1sum(terms,omega):\n",
    "    ans = 0.\n",
    "    for i in range(-terms, terms):\n",
    "        ans += K_1(i, omega)\n",
    "#        print i, ans  \n",
    "    return 1 + ans"
   ]
  },
  {
   "cell_type": "code",
   "execution_count": 7,
   "metadata": {
    "collapsed": true,
    "deletable": true,
    "editable": true
   },
   "outputs": [],
   "source": [
    "def K_3(n,omega):\n",
    "    #can't add 1 here, do it in the end (in K_33(a,b))\n",
    "    k_perp = omega / c * np.sin(theta)                  # wavevector perp component n = 1 approximation\n",
    "    k_z    = omega / c * np.cos(theta)                  # wavevector parallel comp. n = 1 approximation\n",
    "    lambd   = k_perp**2. * w_T**2. / (2. * omega_c**2.) # just a defined parameter\n",
    "    zeta = (omega + n * omega_c) / (k_z * w_T)\n",
    "    \n",
    "    prefactor = -1*omega_p**2. * np.exp(-lambd) / (omega * k_z * w_T)\n",
    "    \n",
    "#     if(np.abs(zeta) > 625):\n",
    "#         print (\"zeta out of range of PDF\")\n",
    "        \n",
    "    term1 = special.iv(n,lambd) * zeta * Zder(zeta)\n",
    "    ans = prefactor * term1\n",
    "    return ans\n",
    "\n",
    "def K_3sum(terms,omega):\n",
    "    ans = 0.\n",
    "    for i in range(-terms, terms):\n",
    "        ans += K_3(i, omega)\n",
    "#        print i, ans  \n",
    "    return 1 + ans"
   ]
  },
  {
   "cell_type": "code",
   "execution_count": 8,
   "metadata": {
    "collapsed": true,
    "deletable": true,
    "editable": true
   },
   "outputs": [],
   "source": [
    "def K_4(n,omega):\n",
    "    \n",
    "    k_perp = omega / c * np.sin(theta)                  # wavevector perp component n = 1 approximation\n",
    "    k_z    = omega / c * np.cos(theta)                  # wavevector parallel comp. n = 1 approximation\n",
    "    lambd   = k_perp**2. * w_T**2. / (2. * omega_c**2.) # just a defined parameter\n",
    "    zeta = (omega + n * omega_c) / (k_z * w_T)\n",
    "    \n",
    "    #multiplying with epsilon as swanson dropped it by mistake\n",
    "    prefactor = epsilon*k_perp*omega_p**2. * np.exp(-lambd) / (2*omega * k_z * omega_c)\n",
    "    \n",
    "    if(np.abs(zeta) > 625):\n",
    "        print (\"zeta out of range of PDF\")\n",
    "        \n",
    "    term1 = n*(special.iv(n,lambd)/lambd) * Zder(zeta)\n",
    "    ans = prefactor * term1\n",
    "    return ans\n",
    "\n",
    "def K_4sum(terms,omega):\n",
    "    ans = 0.\n",
    "    for i in range(-terms, terms):\n",
    "        ans += K_4(i, omega)\n",
    "#        print i, ans  \n",
    "    return ans"
   ]
  },
  {
   "cell_type": "code",
   "execution_count": 9,
   "metadata": {
    "collapsed": true,
    "deletable": true,
    "editable": true
   },
   "outputs": [],
   "source": [
    "def K_5(n,omega):\n",
    "    \n",
    "    k_perp = omega / c * np.sin(theta)                  # wavevector perp component n = 1 approximation\n",
    "    k_z    = omega / c * np.cos(theta)                  # wavevector parallel comp. n = 1 approximation\n",
    "    lambd   = k_perp**2. * w_T**2. / (2. * omega_c**2.) # just a defined parameter\n",
    "    zeta = (omega + n * omega_c) / (k_z * w_T)\n",
    "    \n",
    "    prefactor = 1j*k_perp*epsilon*omega_p**2. * np.exp(-lambd) / (2*omega * k_z * omega_c)\n",
    "    \n",
    "    if(np.abs(zeta) > 625):\n",
    "        print (\"zeta out of range of PDF\")\n",
    "        \n",
    "    term1 = (special.iv(n,lambd) - special.ivp(n,lambd)) * Zder(zeta)\n",
    "    ans = prefactor * term1\n",
    "    return ans\n",
    "\n",
    "def K_5sum(terms,omega):\n",
    "    ans = 0.\n",
    "    for i in range(-terms, terms):\n",
    "        ans += K_5(i, omega)\n",
    "#        print i, ans  \n",
    "    return ans"
   ]
  },
  {
   "cell_type": "code",
   "execution_count": 10,
   "metadata": {
    "collapsed": false,
    "deletable": true,
    "editable": true
   },
   "outputs": [],
   "source": [
    "#K_12\n",
    "def swansK_12(terms, omega):\n",
    "    return K_2sum(terms,omega)\n",
    "\n",
    "#print K_12(number of sum terms evaluated, omega)\n",
    "\n",
    "# print (swansK_12(100, 40.0) - swansK_12(10, 40.0))"
   ]
  },
  {
   "cell_type": "code",
   "execution_count": 11,
   "metadata": {
    "collapsed": false,
    "deletable": true,
    "editable": true
   },
   "outputs": [],
   "source": [
    "#K_21 (simply negative of K_12)\n",
    "def swansK_21(terms,omega):\n",
    "    return -1*swansK_12(terms,omega)\n",
    "\n",
    "# print(swansK_21(100,40.0) - swansK_21(10,40.0))"
   ]
  },
  {
   "cell_type": "code",
   "execution_count": 12,
   "metadata": {
    "collapsed": false,
    "deletable": true,
    "editable": true
   },
   "outputs": [],
   "source": [
    "#K_11\n",
    "def swansK_11(terms,omega):\n",
    "    return K_1sum(terms,omega) - 1\n",
    "\n",
    "# print(swansK_11(1000,40) - swansK_11(100, 40.0))"
   ]
  },
  {
   "cell_type": "code",
   "execution_count": 13,
   "metadata": {
    "collapsed": false,
    "deletable": true,
    "editable": true
   },
   "outputs": [],
   "source": [
    "#K_22\n",
    "def swansK_22(terms,omega):\n",
    "    return K_1sum(terms,omega) + K_0sum(terms,omega) - 1\n",
    "# print(swansK_22(1000,40.0) - swansK_22(100,40.0))"
   ]
  },
  {
   "cell_type": "code",
   "execution_count": 14,
   "metadata": {
    "collapsed": false,
    "deletable": true,
    "editable": true
   },
   "outputs": [],
   "source": [
    "#K_33\n",
    "def swansK_33(terms,omega):\n",
    "    return K_3sum(terms,omega) - 1\n",
    "# print(swansK_33(1000,40.0) - swansK_33(100,40.0))"
   ]
  },
  {
   "cell_type": "code",
   "execution_count": 15,
   "metadata": {
    "collapsed": false,
    "deletable": true,
    "editable": true
   },
   "outputs": [],
   "source": [
    "#K_13\n",
    "def swansK_13(terms,omega):\n",
    "    return K_4sum(terms,omega)\n",
    "# print(swansK_13(1000,40.0) - swansK_13(100,40.0))"
   ]
  },
  {
   "cell_type": "code",
   "execution_count": 16,
   "metadata": {
    "collapsed": true,
    "deletable": true,
    "editable": true
   },
   "outputs": [],
   "source": [
    "#K_31 (simply the same as K_13)\n",
    "\n",
    "def swansK_31(terms,omega):\n",
    "    return swansK_13(terms,omega)"
   ]
  },
  {
   "cell_type": "code",
   "execution_count": 17,
   "metadata": {
    "collapsed": false,
    "deletable": true,
    "editable": true
   },
   "outputs": [],
   "source": [
    "#K_23\n",
    "def swansK_23(terms,omega):\n",
    "    return -1*K_5sum(terms,omega)\n",
    "    # print(swansK_23(1000,40.0) - swansK_23(100,40.0))"
   ]
  },
  {
   "cell_type": "code",
   "execution_count": 18,
   "metadata": {
    "collapsed": false,
    "deletable": true,
    "editable": true
   },
   "outputs": [],
   "source": [
    "#K_32 (simply the negative of K_23)\n",
    "\n",
    "def swansK_32(terms,omega):\n",
    "    return -1*swansK_23(terms,omega)\n",
    "# print(swansK_32(1000,40.0) - swansK_32(100,40.0))"
   ]
  },
  {
   "cell_type": "code",
   "execution_count": 19,
   "metadata": {
    "collapsed": true,
    "deletable": true,
    "editable": true
   },
   "outputs": [],
   "source": [
    "#now to code all of our derived tensor components\n",
    "#K_11\n",
    "def K_11_integrand(tau,omega):\n",
    "    k_perp = omega / c * np.sin(theta)# wavevector perp component n = 1 approximation\n",
    "    k_z    = omega / c * np.cos(theta)# wavevector parellel component n = 1 approximation\n",
    "    lambd   = k_perp**2. * w_T**2. / (2. * omega_c**2.) #predefined factor\n",
    "    \n",
    "    prefactor = -1j * omega_p**2 / (omega)\n",
    "    taufactors = np.exp(1j*omega*tau) * np.exp(-2*lambd*(np.sin(epsilon*omega_c *tau/2))**2) * \\\n",
    "    np.exp(-(w_T)**2 * k_z**2 * (tau**2)/4)\n",
    "    \n",
    "    term1 = np.cos(epsilon * omega_c * tau) * (-1 + 2*lambd*(np.sin(epsilon* omega_c * tau/2))**2)\n",
    "    term2 = 2*lambd*(np.sin(epsilon* omega_c * tau/2))**2\n",
    "        \n",
    "    return prefactor*taufactors*(term1 + term2)\n",
    "\n",
    "def K_11(omega):\n",
    "    K_11_real = quad(lambda tau: K_11_integrand(tau,omega).real,0,np.inf)\n",
    "    K_11_imag = quad(lambda tau: K_11_integrand(tau,omega).imag,0,np.inf)\n",
    "    return 0 + K_11_real[0] + 1j*K_11_imag[0]"
   ]
  },
  {
   "cell_type": "code",
   "execution_count": 20,
   "metadata": {
    "collapsed": false,
    "deletable": true,
    "editable": true
   },
   "outputs": [],
   "source": [
    "#K_13\n",
    "def K_13_integrand(tau,omega):\n",
    "    k_perp = omega / c * np.sin(theta)# wavevector perp component n = 1 approximation\n",
    "    k_z    = omega / c * np.cos(theta)# wavevector parellel component n = 1 approximation\n",
    "    lambd   = k_perp**2. * w_T**2. / (2. * omega_c**2.) #predefined factor\n",
    "    \n",
    "    prefactor = 1j*omega_p**2 * k_perp * k_z * w_T**2 / (omega * epsilon * omega_c)\n",
    "    taufactors = tau* np.exp(1j*omega*tau) * np.exp(-2*lambd*(np.sin(epsilon*omega_c *tau/2))**2) * \\\n",
    "    np.exp(-(w_T)**2 * k_z**2 * (tau**2)/4)\n",
    "    \n",
    "    term = np.sin(epsilon* omega_c * tau/2) * np.cos(epsilon* omega_c * tau/2)\n",
    "    return prefactor * taufactors * term\n",
    "\n",
    "def K_13(omega):\n",
    "    K_13_real = quad(lambda tau: K_13_integrand(tau,omega).real,0,np.inf)\n",
    "    K_13_imag = quad(lambda tau: K_13_integrand(tau,omega).imag,0,np.inf)\n",
    "#     print(K_13_real)\n",
    "#     print(K_13_imag)\n",
    "    return K_13_real[0] + 1j*K_13_imag[0]"
   ]
  },
  {
   "cell_type": "code",
   "execution_count": 21,
   "metadata": {
    "collapsed": true,
    "deletable": true,
    "editable": true
   },
   "outputs": [],
   "source": [
    "# K_31 is the same as K_13\n",
    "def K_31(omega):\n",
    "    return K_13(omega)"
   ]
  },
  {
   "cell_type": "code",
   "execution_count": 22,
   "metadata": {
    "collapsed": true,
    "deletable": true,
    "editable": true
   },
   "outputs": [],
   "source": [
    "#K_23\n",
    "def K_23_integrand(tau,omega):\n",
    "    k_perp = omega / c * np.sin(theta)# wavevector perp component n = 1 approximation\n",
    "    k_z    = omega / c * np.cos(theta)# wavevector parellel component n = 1 approximation\n",
    "    lambd   = k_perp**2. * w_T**2. / (2. * omega_c**2.) #predefined factor\n",
    "    \n",
    "    prefactor = 1j*omega_p**2 * k_perp * k_z * w_T**2 / (omega * epsilon * omega_c)\n",
    "    taufactors = tau* np.exp(1j*omega*tau) * np.exp(-2*lambd*(np.sin(epsilon*omega_c *tau/2))**2) * \\\n",
    "    np.exp(-(w_T)**2 * k_z**2 * (tau**2)/4)\n",
    "    \n",
    "    term = np.sin(epsilon* omega_c * tau/2)**2\n",
    "    return prefactor * taufactors * term\n",
    "\n",
    "def K_23(omega):\n",
    "    K_23_real = quad(lambda tau: K_23_integrand(tau,omega).real,0,np.inf)\n",
    "    K_23_imag = quad(lambda tau: K_23_integrand(tau,omega).imag,0,np.inf)\n",
    "#     print(K_23_real)\n",
    "#     print(K_23_imag)\n",
    "    return K_23_real[0] + 1j*K_23_imag[0]\n",
    "    "
   ]
  },
  {
   "cell_type": "code",
   "execution_count": 23,
   "metadata": {
    "collapsed": true,
    "deletable": true,
    "editable": true
   },
   "outputs": [],
   "source": [
    "def K_32(omega):\n",
    "    return -1*K_23(omega)"
   ]
  },
  {
   "cell_type": "code",
   "execution_count": 24,
   "metadata": {
    "collapsed": true,
    "deletable": true,
    "editable": true
   },
   "outputs": [],
   "source": [
    "#K_33\n",
    "def K_33_integrand(tau,omega):\n",
    "    k_perp = omega / c * np.sin(theta)# wavevector perp component n = 1 approximation\n",
    "    k_z    = omega / c * np.cos(theta)# wavevector parellel component n = 1 approximation\n",
    "    lambd   = k_perp**2. * w_T**2. / (2. * omega_c**2.) #predefined factor\n",
    "\n",
    "    prefactor = 1j*omega_p**2 / (2*omega)\n",
    "    taufactors = np.exp(1j*omega*tau) * np.exp(-2*lambd*(np.sin(epsilon*omega_c *tau/2))**2) * \\\n",
    "    np.exp(-(w_T)**2 * k_z**2 * (tau**2)/4)\n",
    "    \n",
    "    term = 2- (w_T*k_z*tau)**2\n",
    "    return prefactor*taufactors*term\n",
    "\n",
    "def K_33(omega):\n",
    "    K_33_real = quad(lambda tau: K_33_integrand(tau,omega).real,0,np.inf)\n",
    "    K_33_imag = quad(lambda tau: K_33_integrand(tau,omega).imag,0,np.inf)\n",
    "#     print(K_33_real)\n",
    "#     print(K_33_imag)\n",
    "    return 0 + K_33_real[0] + 1j*K_33_imag[0]"
   ]
  },
  {
   "cell_type": "code",
   "execution_count": 25,
   "metadata": {
    "collapsed": true,
    "deletable": true,
    "editable": true
   },
   "outputs": [],
   "source": [
    "#K_22\n",
    "def K_22_integrand(tau,omega):\n",
    "    k_perp = omega / c * np.sin(theta)# wavevector perp component n = 1 approximation\n",
    "    k_z    = omega / c * np.cos(theta)# wavevector parellel component n = 1 approximation\n",
    "    lambd   = k_perp**2. * w_T**2. / (2. * omega_c**2.) #predefined factor\n",
    "    \n",
    "    prefactor = -1j * omega_p**2 / (omega)\n",
    "    taufactors = np.exp(1j*omega*tau) * np.exp(-2*lambd*(np.sin(epsilon*omega_c *tau/2))**2) * \\\n",
    "    np.exp(-(w_T)**2 * k_z**2 * (tau**2)/4)\n",
    "    \n",
    "    term1 = np.cos(epsilon * omega_c * tau) * (-1 + 2*lambd*(np.sin(epsilon* omega_c * tau/2))**2)\n",
    "    term2 = 2*lambd*(np.sin(epsilon* omega_c * tau/2))**2\n",
    "    \n",
    "    return prefactor* taufactors* (term1-term2)\n",
    "\n",
    "def K_22(omega):\n",
    "    K_22_real = quad(lambda tau: K_22_integrand(tau,omega).real,0,np.inf)\n",
    "    K_22_imag = quad(lambda tau: K_22_integrand(tau,omega).imag,0,np.inf)\n",
    "#     print(K_22_real)\n",
    "#     print(K_22_imag)\n",
    "    return 0 + K_22_real[0] + 1j*K_22_imag[0]"
   ]
  },
  {
   "cell_type": "code",
   "execution_count": 26,
   "metadata": {
    "collapsed": true,
    "deletable": true,
    "editable": true
   },
   "outputs": [],
   "source": [
    "def numK_22_integrand(v_perp, v_z, tau, omega):\n",
    "    minus_sign= -1. #why do we have this in this version but not the semianalytic one?\n",
    "    prefactor = -2. * 1j * omega_p**2. / (w_T**5. * np.sqrt(np.pi) * omega)\n",
    "    k_perp    = omega / c * np.sin(theta)                  # wavevector perp component n = 1 approximation\n",
    "    k_z       = omega / c * np.cos(theta)                  # wavevector parallel comp. n = 1 approximation\n",
    "    a         = omega - k_z * v_z\n",
    "    term1     = np.exp(1j*a*tau) * v_perp**3. * np.exp(-(v_perp**2. + v_z**2.)/w_T**2.)\n",
    "    term2     = special.jv(2,2. * k_perp * v_perp / (epsilon * omega_c) * np.sin(epsilon * omega_c * tau / 2.))\n",
    "    term3     = np.cos(epsilon * omega_c * tau)*special.j0(2. * k_perp * v_perp / (epsilon * omega_c) * np.sin(epsilon * omega_c * tau / 2.))\n",
    "    ans       = prefactor * term1 * (term2 + term3)\n",
    "    return minus_sign * ans\n",
    "\n",
    "def K_22_perp_integrated(v_z, tau, omega):\n",
    "#    real_integral_result = quad(lambda v_perp: K_12_integrand(v_perp, v_z, tau, omega).real, 0., np.inf)\n",
    "#    imag_integral_result = quad(lambda v_perp: K_12_integrand(v_perp, v_z, tau, omega).imag, 0., np.inf)\n",
    "    real_integral_result = fixed_quad(lambda v_perp: numK_22_integrand(v_perp, v_z, tau, omega).real, 0., 20., \n",
    "                                     n=25) #huge speed improvement\n",
    "    imag_integral_result = fixed_quad(lambda v_perp: numK_22_integrand(v_perp, v_z, tau, omega).imag, 0., 20., \n",
    "                                     n=25) #huge speed improvement\n",
    "    ans = real_integral_result[0] + imag_integral_result[0] * 1j\n",
    "    return ans\n",
    "\n",
    "def K_22_v_integrated(tau, omega):\n",
    "    real_integral_result = quad(lambda v_z: K_22_perp_integrated(v_z, tau, omega).real, -np.inf, np.inf)\n",
    "    imag_integral_result = quad(lambda v_z: K_22_perp_integrated(v_z, tau, omega).imag, -np.inf, np.inf)\n",
    "    ans = real_integral_result[0] + imag_integral_result[0] * 1j\n",
    "    return ans\n",
    "\n",
    "def numK_22(omega):\n",
    "    real_integral_result = quad(lambda tau: K_22_v_integrated(tau, omega).real, 0., 20.) #setting upper bound\n",
    "    imag_integral_result = quad(lambda tau: K_22_v_integrated(tau, omega).imag, 0., 20.) #by hand at the moment\n",
    "    ans = real_integral_result[0] + imag_integral_result[0] * 1j\n",
    "    return ans"
   ]
  },
  {
   "cell_type": "code",
   "execution_count": 27,
   "metadata": {
    "collapsed": true,
    "deletable": true,
    "editable": true
   },
   "outputs": [],
   "source": [
    "#K_21\n",
    "def K_21_integrand(tau,omega):\n",
    "    k_perp = omega / c * np.sin(theta)# wavevector perp component n = 1 approximation\n",
    "    k_z    = omega / c * np.cos(theta)# wavevector parellel component n = 1 approximation\n",
    "    lambd   = k_perp**2. * w_T**2. / (2. * omega_c**2.) #predefined factor\n",
    "    \n",
    "    prefactor = 2j * omega_p**2 / (omega)\n",
    "    taufactors = np.sin(epsilon*omega_c *tau)*np.exp(1j*omega*tau) * np.exp(-2*lambd*(np.sin(epsilon*omega_c *tau/2))**2) * \\\n",
    "    np.exp(-(w_T)**2 * k_z**2 * (tau**2)/4)\n",
    "    \n",
    "    term1 = lambd*(np.sin(epsilon* omega_c * tau/2))**2\n",
    "    term2 = -1/2\n",
    "        \n",
    "    return prefactor*taufactors*(term1 + term2)\n",
    "\n",
    "def K_21(omega):\n",
    "    K_21_real = quad(lambda tau: K_21_integrand(tau,omega).real,0,np.inf)\n",
    "    K_21_imag = quad(lambda tau: K_21_integrand(tau,omega).imag,0,np.inf)\n",
    "    return K_21_real[0] + 1j*K_21_imag[0]"
   ]
  },
  {
   "cell_type": "code",
   "execution_count": 28,
   "metadata": {
    "collapsed": true,
    "deletable": true,
    "editable": true
   },
   "outputs": [],
   "source": [
    "#K_12\n",
    "def K_12_integrand(tau,omega):\n",
    "    k_perp = omega / c * np.sin(theta)# wavevector perp component n = 1 approximation\n",
    "    k_z    = omega / c * np.cos(theta)# wavevector parellel component n = 1 approximation\n",
    "    lambd   = k_perp**2. * w_T**2. / (2. * omega_c**2.) #predefined factor\n",
    "    \n",
    "    prefactor = -1* 2j * omega_p**2 / (omega)\n",
    "    taufactors = np.sin(epsilon*omega_c *tau)*np.exp(1j*omega*tau) * np.exp(-2*lambd*(np.sin(epsilon*omega_c *tau/2))**2) * \\\n",
    "    np.exp(-(w_T)**2 * k_z**2 * (tau**2)/4)\n",
    "    \n",
    "    term1 = lambd*(np.sin(epsilon* omega_c * tau/2))**2\n",
    "    term2 = -1/2\n",
    "        \n",
    "    return prefactor*taufactors*(term1 + term2)\n",
    "\n",
    "def K_12(omega):\n",
    "    K_12_real = quad(lambda tau: K_12_integrand(tau,omega).real,0,np.inf)\n",
    "    K_12_imag = quad(lambda tau: K_12_integrand(tau,omega).imag,0,np.inf)\n",
    "    return K_12_real[0] + 1j*K_12_imag[0]"
   ]
  },
  {
   "cell_type": "code",
   "execution_count": 29,
   "metadata": {
    "collapsed": true,
    "deletable": true,
    "editable": true
   },
   "outputs": [],
   "source": [
    "def numK_13_integrand(v_perp, v_z, tau, omega):\n",
    "#     minus_sign= -1. #why do we have this in this version but not the semianalytic one?\n",
    "    prefactor = -4. * omega_p**2. / (w_T**5. * np.sqrt(np.pi) * omega)\n",
    "    k_perp    = omega / c * np.sin(theta)                  # wavevector perp component n = 1 approximation\n",
    "    k_z       = omega / c * np.cos(theta)                  # wavevector parallel comp. n = 1 approximation\n",
    "    a         = omega - k_z * v_z\n",
    "    term1     = np.exp(1j*a*tau) * np.cos(epsilon * omega_c * tau/2) * np.exp(-(v_perp**2. + v_z**2.)/w_T**2.)\n",
    "    term2     = special.j1(2. * k_perp * (v_perp / (epsilon * omega_c)) * np.sin(epsilon * omega_c * tau / 2.))\n",
    "    term3     = v_perp**2. * v_z\n",
    "    ans       = prefactor * term1 * term2 * term3\n",
    "    return ans\n",
    "\n",
    "def K_13_perp_integrated(v_z, tau, omega):\n",
    "#    real_integral_result = quad(lambda v_perp: K_12_integrand(v_perp, v_z, tau, omega).real, 0., np.inf)\n",
    "#    imag_integral_result = quad(lambda v_perp: K_12_integrand(v_perp, v_z, tau, omega).imag, 0., np.inf)\n",
    "    real_integral_result = fixed_quad(lambda v_perp: numK_13_integrand(v_perp, v_z, tau, omega).real, 0., 20., \n",
    "                                     n=25) #huge speed improvement\n",
    "    imag_integral_result = fixed_quad(lambda v_perp: numK_13_integrand(v_perp, v_z, tau, omega).imag, 0., 20., \n",
    "                                     n=25) #huge speed improvement\n",
    "    ans = real_integral_result[0] + imag_integral_result[0] * 1j\n",
    "    return ans\n",
    "\n",
    "def K_13_v_integrated(tau, omega):\n",
    "    real_integral_result = quad(lambda v_z: K_13_perp_integrated(v_z, tau, omega).real, -np.inf, np.inf)\n",
    "    imag_integral_result = quad(lambda v_z: K_13_perp_integrated(v_z, tau, omega).imag, -np.inf, np.inf)\n",
    "    ans = real_integral_result[0] + imag_integral_result[0] * 1j\n",
    "    return ans\n",
    "\n",
    "def numK_13(omega):\n",
    "    real_integral_result = quad(lambda tau: K_13_v_integrated(tau, omega).real, 0., 20.) #setting upper bound\n",
    "    imag_integral_result = quad(lambda tau: K_13_v_integrated(tau, omega).imag, 0., 20.) #by hand at the moment\n",
    "    ans = real_integral_result[0] + imag_integral_result[0] * 1j\n",
    "    return ans"
   ]
  },
  {
   "cell_type": "code",
   "execution_count": 32,
   "metadata": {
    "collapsed": false
   },
   "outputs": [
    {
     "data": {
      "text/plain": [
       "(-1.744517094040108e-12-6.2834303057753954e-12j)"
      ]
     },
     "execution_count": 32,
     "metadata": {},
     "output_type": "execute_result"
    }
   ],
   "source": [
    "(swansK_12(100,4) - K_12(4))/K_12(4)"
   ]
  },
  {
   "cell_type": "code",
   "execution_count": 31,
   "metadata": {
    "collapsed": false,
    "deletable": true,
    "editable": true
   },
   "outputs": [
    {
     "data": {
      "text/plain": [
       "<matplotlib.legend.Legend at 0x7f7b9876cda0>"
      ]
     },
     "execution_count": 31,
     "metadata": {},
     "output_type": "execute_result"
    },
    {
     "data": {
      "image/png": "[encoded data removed]",
      "text/plain": [
       "<matplotlib.figure.Figure at 0x7f7b9a7df5c0>"
      ]
     },
     "metadata": {},
     "output_type": "display_data"
    }
   ],
   "source": [
    "omegaVals = np.linspace(1,43,200)\n",
    "\n",
    "pl.figure(0)\n",
    "pl.plot(omegaVals,np.vectorize(K_11)(omegaVals).imag, label = '$Im[K_{11}]$')\n",
    "pl.plot(omegaVals,np.vectorize(swansK_11)(100,omegaVals).imag, label = \"$Im[swansK_{11}]$\")\n",
    "# pl.plot(omegaVals,omegaVals,label = 'imag')\n",
    "pl.xlabel('$\\omega$')\n",
    "pl.legend(loc = \"upper right\")"
   ]
  }
 ],
 "metadata": {
  "kernelspec": {
   "display_name": "Python 3",
   "language": "python",
   "name": "python3"
  },
  "language_info": {
   "codemirror_mode": {
    "name": "ipython",
    "version": 3
   },
   "file_extension": ".py",
   "mimetype": "text/x-python",
   "name": "python",
   "nbconvert_exporter": "python",
   "pygments_lexer": "ipython3",
   "version": "3.5.2"
  }
 },
 "nbformat": 4,
 "nbformat_minor": 2
}
