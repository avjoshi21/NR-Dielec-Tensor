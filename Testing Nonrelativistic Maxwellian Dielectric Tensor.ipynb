{
 "cells": [
  {
   "cell_type": "code",
   "execution_count": 108,
   "metadata": {
    "collapsed": true
   },
   "outputs": [],
   "source": [
    "\n",
    "%matplotlib inline\n",
    "import numpy as np\n",
    "import pylab as pl\n",
    "import scipy.special as special\n",
    "from scipy.integrate import quad\n",
    "\n",
    "# Set plot parameters to make beautiful plots\n",
    "pl.rcParams['figure.figsize']  = 12, 7.5\n",
    "pl.rcParams['lines.linewidth'] = 1.5\n",
    "pl.rcParams['font.family']     = 'serif'\n",
    "pl.rcParams['font.weight']     = 'bold'\n",
    "pl.rcParams['font.size']       = 20  \n",
    "pl.rcParams['font.sans-serif'] = 'serif'\n",
    "pl.rcParams['text.usetex']     = True\n",
    "pl.rcParams['axes.linewidth']  = 1.5\n",
    "pl.rcParams['axes.titlesize']  = 'medium'\n",
    "pl.rcParams['axes.labelsize']  = 'large'\n",
    "\n",
    "pl.rcParams['xtick.major.size'] = 8     \n",
    "pl.rcParams['xtick.minor.size'] = 4     \n",
    "pl.rcParams['xtick.major.pad']  = 8     \n",
    "pl.rcParams['xtick.minor.pad']  = 8     \n",
    "pl.rcParams['xtick.color']      = 'k'     \n",
    "pl.rcParams['xtick.labelsize']  = 'large'\n",
    "pl.rcParams['xtick.direction']  = 'in'    \n",
    "\n",
    "pl.rcParams['ytick.major.size'] = 8     \n",
    "pl.rcParams['ytick.minor.size'] = 4     \n",
    "pl.rcParams['ytick.major.pad']  = 8     \n",
    "pl.rcParams['ytick.minor.pad']  = 8     \n",
    "pl.rcParams['ytick.color']      = 'k'     \n",
    "pl.rcParams['ytick.labelsize']  = 'large'\n",
    "pl.rcParams['ytick.direction']  = 'in'\n",
    "\n"
   ]
  },
  {
   "cell_type": "code",
   "execution_count": 109,
   "metadata": {
    "collapsed": true
   },
   "outputs": [],
   "source": [
    "# EVERYTHING IS 1 units\n",
    "\n",
    "#constants\n",
    "e        = 1.     #electron charge\n",
    "m        = 1.     #electron mass\n",
    "c        = 1.     #speed of light\n",
    "epsilon0 = 1.     #permittivity of free space\n",
    "epsilon  = -1.    #sign of electron charge\n",
    "\n",
    "#parameters\n",
    "B     = 1.         #background B strength\n",
    "n_e   = 1.         #electron number density cm^-3\n",
    "w_T   = 1.         #dimensionless electron temp. k_B T / m c^2\n",
    "theta = np.pi / 3. #observer angle\n",
    "\n",
    "#derived quantities\n",
    "omega_p = np.sqrt(n_e * e**2. / (m * epsilon0))     # plasma frequency\n",
    "omega_c = e * B / (m * c)                           # cyclotron frequency\n"
   ]
  },
  {
   "cell_type": "code",
   "execution_count": 110,
   "metadata": {
    "collapsed": true
   },
   "outputs": [],
   "source": [
    "#we first need the plasma dispersion function\n",
    "\n",
    "def Z_integrand(xi, zeta):\n",
    "    prefactor   = 1. / np.sqrt(np.pi)\n",
    "    numerator   = np.exp(-xi**2.)\n",
    "    \n",
    "#   denominator = xi - zeta  #included in quad with weight type 'cauchy' passed to quad\n",
    "    denominator = 1.\n",
    "    \n",
    "    return prefactor * numerator / denominator\n",
    "\n",
    "def Zder_integrand(xi,zeta):\n",
    "    prefactor = -1. / np.sqrt(np.pi)\n",
    "    numerator = 2*xi*np.exp(-xi**2)\n",
    "    denominator = 1\n",
    "    return prefactor*numerator/denominator\n",
    "\n",
    "def Zder(zeta):\n",
    "    if(np.abs(zeta) < 2.):\n",
    "        int_limit = 10. * np.abs(zeta)\n",
    "    elif(np.abs(zeta) > 2. and np.abs(zeta) < 130.):\n",
    "        int_limit = 2. * np.abs(zeta)\n",
    "    else:\n",
    "        int_limit = 1.5 * np.abs(zeta)\n",
    "    \n",
    "    imag_part = 1j * np.pi * Zder_integrand(zeta, zeta)\n",
    "    \n",
    "    if(zeta != 0):\n",
    "        ans = quad(lambda xi: Zder_integrand(xi, zeta), -int_limit, int_limit, weight='cauchy', wvar=zeta)[0]\n",
    "    else:\n",
    "        ans = 0.\n",
    "        \n",
    "    return ans + imag_part\n",
    "\n",
    "\n",
    "#seems to work up to |zeta| = 625 where it's approx. -/+ 0.002 (so negative zeta yields +0.002)\n",
    "def Z(zeta): \n",
    "    if(np.abs(zeta) < 2.):\n",
    "        int_limit = 10. * np.abs(zeta)\n",
    "    elif(np.abs(zeta) > 2. and np.abs(zeta) < 130.):\n",
    "        int_limit = 2. * np.abs(zeta)\n",
    "    else:\n",
    "        int_limit = 1.5 * np.abs(zeta)\n",
    "    \n",
    "    imag_part = 1j * np.pi * Z_integrand(zeta, zeta)\n",
    "    \n",
    "    if(zeta != 0):\n",
    "        ans = quad(lambda xi: Z_integrand(xi, zeta), -int_limit, int_limit, weight='cauchy', wvar=zeta)[0]\n",
    "    else:\n",
    "        ans = 0.\n",
    "        \n",
    "    return ans + imag_part\n"
   ]
  },
  {
   "cell_type": "code",
   "execution_count": 111,
   "metadata": {
    "collapsed": false
   },
   "outputs": [],
   "source": [
    "def K_2(n, omega):\n",
    "    k_perp = omega / c * np.sin(theta)                  # wavevector perp component n = 1 approximation\n",
    "    k_z    = omega / c * np.cos(theta)                  # wavevector parallel comp. n = 1 approximation\n",
    "    lambd   = k_perp**2. * w_T**2. / (2. * omega_c**2.) # just a defined parameter\n",
    "    prefactor = 1j * omega_p**2. * np.exp(-lambd) / (omega * k_z * w_T)\n",
    "    zeta = (omega + n * omega_c) / (k_z * w_T)\n",
    "    \n",
    "    if(np.abs(zeta) > 625):\n",
    "        print (\"zeta out of range of PDF\")\n",
    "    \n",
    "    term1 = n * (special.iv(n, lambd) - special.ivp(n, lambd)) * Z(zeta)\n",
    "    ans = prefactor * term1\n",
    "    return ans\n"
   ]
  },
  {
   "cell_type": "code",
   "execution_count": 112,
   "metadata": {
    "collapsed": true
   },
   "outputs": [],
   "source": [
    "def K_0(n,omega):\n",
    "    \n",
    "    k_perp = omega / c * np.sin(theta)                  # wavevector perp component n = 1 approximation\n",
    "    k_z    = omega / c * np.cos(theta)                  # wavevector parallel comp. n = 1 approximation\n",
    "    lambd   = k_perp**2. * w_T**2. / (2. * omega_c**2.) # just a defined parameter\n",
    "    zeta = (omega + n * omega_c) / (k_z * w_T)\n",
    "    \n",
    "    prefactor = 2 * omega_p**2. * np.exp(-lambd) / (omega * k_z * w_T)\n",
    "    \n",
    "    if(np.abs(zeta) > 625):\n",
    "        print (\"zeta out of range of PDF\")\n",
    "        \n",
    "    term1 = n * (special.iv(n,lambd) - special.ivp(n,lambd)) * Z(zeta)\n",
    "    ans = prefactor * term1\n",
    "    return ans"
   ]
  },
  {
   "cell_type": "code",
   "execution_count": 113,
   "metadata": {
    "collapsed": true
   },
   "outputs": [],
   "source": [
    "def K_1(n,omega):\n",
    "    #can't add the 1 here, add it towards the end of calculating the component (in K_11(a,b))\n",
    "    \n",
    "    k_perp = omega / c * np.sin(theta)                  # wavevector perp component n = 1 approximation\n",
    "    k_z    = omega / c * np.cos(theta)                  # wavevector parallel comp. n = 1 approximation\n",
    "    lambd   = k_perp**2. * w_T**2. / (2. * omega_c**2.) # just a defined parameter\n",
    "    zeta = (omega + n * omega_c) / (k_z * w_T)\n",
    "        \n",
    "    prefactor = omega_p**2. * np.exp(-lambd) / (omega * k_z * w_T)\n",
    "    \n",
    "    if(np.abs(zeta) > 625):\n",
    "        print (\"zeta out of range of PDF\")\n",
    "        \n",
    "    term1 = n**2 * (special.iv(n,lambd)/lambd) * Z(zeta)\n",
    "    ans = prefactor * term1\n",
    "    return ans"
   ]
  },
  {
   "cell_type": "code",
   "execution_count": 114,
   "metadata": {
    "collapsed": true
   },
   "outputs": [],
   "source": [
    "def K_3(n,omega):\n",
    "    #can't add 1 here, do it in the end (in K_33(a,b))\n",
    "    k_perp = omega / c * np.sin(theta)                  # wavevector perp component n = 1 approximation\n",
    "    k_z    = omega / c * np.cos(theta)                  # wavevector parallel comp. n = 1 approximation\n",
    "    lambd   = k_perp**2. * w_T**2. / (2. * omega_c**2.) # just a defined parameter\n",
    "    zeta = (omega + n * omega_c) / (k_z * w_T)\n",
    "    \n",
    "    prefactor = omega_p**2. * np.exp(-lambd) / (omega * k_z * w_T)\n",
    "    \n",
    "    if(np.abs(zeta) > 625):\n",
    "        print (\"zeta out of range of PDF\")\n",
    "        \n",
    "    term1 = special.iv(n,lambd) * zeta * Zder(zeta)\n",
    "    ans = -1*prefactor * term1\n",
    "    return ans"
   ]
  },
  {
   "cell_type": "code",
   "execution_count": 115,
   "metadata": {
    "collapsed": true
   },
   "outputs": [],
   "source": [
    "def K_4(n,omega):\n",
    "    \n",
    "    k_perp = omega / c * np.sin(theta)                  # wavevector perp component n = 1 approximation\n",
    "    k_z    = omega / c * np.cos(theta)                  # wavevector parallel comp. n = 1 approximation\n",
    "    lambd   = k_perp**2. * w_T**2. / (2. * omega_c**2.) # just a defined parameter\n",
    "    zeta = (omega + n * omega_c) / (k_z * w_T)\n",
    "    \n",
    "    prefactor = k_perp*omega_p**2. * np.exp(-lambd) / (2*omega * k_z * omega_c)\n",
    "    \n",
    "    if(np.abs(zeta) > 625):\n",
    "        print (\"zeta out of range of PDF\")\n",
    "        \n",
    "    term1 = n*(special.iv(n,lambd)/lambd) * Zder(zeta)\n",
    "    ans = prefactor * term1\n",
    "    return ans"
   ]
  },
  {
   "cell_type": "code",
   "execution_count": 116,
   "metadata": {
    "collapsed": true
   },
   "outputs": [],
   "source": [
    "def K_5(n,omega):\n",
    "    \n",
    "    k_perp = omega / c * np.sin(theta)                  # wavevector perp component n = 1 approximation\n",
    "    k_z    = omega / c * np.cos(theta)                  # wavevector parallel comp. n = 1 approximation\n",
    "    lambd   = k_perp**2. * w_T**2. / (2. * omega_c**2.) # just a defined parameter\n",
    "    zeta = (omega + n * omega_c) / (k_z * w_T)\n",
    "    \n",
    "    prefactor = 1j*k_perp*epsilon*omega_p**2. * np.exp(-lambd) / (2*omega * k_z * omega_c)\n",
    "    \n",
    "    if(np.abs(zeta) > 625):\n",
    "        print (\"zeta out of range of PDF\")\n",
    "        \n",
    "    term1 = (special.iv(n,lambd) - special.ivp(n,lambd)) * Zder(zeta)\n",
    "    ans = prefactor * term1\n",
    "    return ans"
   ]
  },
  {
   "cell_type": "code",
   "execution_count": 117,
   "metadata": {
    "collapsed": false
   },
   "outputs": [],
   "source": [
    "#K_12\n",
    "def K_12_summand(i,omega):\n",
    "    return K_2(i,omega);\n",
    "\n",
    "def K_12(terms, omega):\n",
    "    ans = 0.\n",
    "    for i in range(-terms, terms):\n",
    "        ans += K_12_summand(i, omega)\n",
    "#        print i, ans  \n",
    "    return ans\n",
    "\n",
    "#print K_12(number of sum terms evaluated, omega)\n",
    "\n",
    "# print (K_12(100, 40.0) - K_12(10, 40.0))"
   ]
  },
  {
   "cell_type": "code",
   "execution_count": 118,
   "metadata": {
    "collapsed": false
   },
   "outputs": [],
   "source": [
    "#K_11\n",
    "def K_11_summand(i,omega):\n",
    "    return K_1(i,omega)\n",
    "\n",
    "def K_11(terms,omega):\n",
    "    ans = 0.\n",
    "    for i in range(-terms,terms):\n",
    "        ans+= K_11_summand(i,omega)\n",
    "    return 1+ans\n",
    "\n",
    "# print(K_11(1000,40) - K_11(100, 40.0))"
   ]
  },
  {
   "cell_type": "code",
   "execution_count": 119,
   "metadata": {
    "collapsed": false
   },
   "outputs": [],
   "source": [
    "#K_22\n",
    "def K_22_summand(i,omega):\n",
    "    return K_1(i,omega) + K_0(i,omega)\n",
    "\n",
    "def K_22(terms,omega):\n",
    "    ans = 0.\n",
    "    for i in range(-terms,terms):\n",
    "        ans+= K_22_summand(i,omega)\n",
    "    return 1+ans\n",
    "# print(K_22(1000,40.0) - K_22(100,40.0))"
   ]
  },
  {
   "cell_type": "code",
   "execution_count": 120,
   "metadata": {
    "collapsed": false
   },
   "outputs": [
    {
     "name": "stdout",
     "output_type": "stream",
     "text": [
      "(5.08281250422e-09+3.44758323452e-11j)\n"
     ]
    }
   ],
   "source": [
    "#K_33\n",
    "def K_33_summand(i,omega):\n",
    "    return K_3(i,omega)\n",
    "\n",
    "def K_33(terms,omega):\n",
    "    ans = 0.\n",
    "    for i in range(-terms,terms):\n",
    "        ans+= K_33_summand(i,omega)\n",
    "    return 1+ans\n",
    "print(K_33(1000,40.0) - K_33(100,40.0))"
   ]
  },
  {
   "cell_type": "code",
   "execution_count": 121,
   "metadata": {
    "collapsed": false
   },
   "outputs": [],
   "source": [
    "#K_21 (simply negative of K_12)\n",
    "\n",
    "def K_21(terms,omega):\n",
    "    return -1*K_12(terms,omega)\n",
    "# print(K_21(1000,40.0) - K_21(100,40.0))"
   ]
  },
  {
   "cell_type": "code",
   "execution_count": 122,
   "metadata": {
    "collapsed": true
   },
   "outputs": [],
   "source": [
    "#K_13\n",
    "def K_13_summand(i,omega):\n",
    "    return K_4(i,omega)\n",
    "\n",
    "def K_13(terms,omega):\n",
    "    ans = 0.\n",
    "    for i in range(-terms,terms):\n",
    "        ans+= K_13_summand(i,omega)\n",
    "    return ans\n",
    "# print(K_22(1000,40.0) - K_22(100,40.0))"
   ]
  }
 ],
 "metadata": {
  "kernelspec": {
   "display_name": "Python 3",
   "language": "python",
   "name": "python3"
  },
  "language_info": {
   "codemirror_mode": {
    "name": "ipython",
    "version": 3
   },
   "file_extension": ".py",
   "mimetype": "text/x-python",
   "name": "python",
   "nbconvert_exporter": "python",
   "pygments_lexer": "ipython3",
   "version": "3.5.2"
  }
 },
 "nbformat": 4,
 "nbformat_minor": 2
}
